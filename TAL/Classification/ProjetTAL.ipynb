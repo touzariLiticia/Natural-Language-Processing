{
 "cells": [
  {
   "cell_type": "code",
   "execution_count": 93,
   "metadata": {},
   "outputs": [],
   "source": [
    "import codecs\n",
    "import re\n",
    "import matplotlib.pyplot as plt\n",
    "from sklearn.feature_extraction.text import CountVectorizer,TfidfVectorizer\n",
    "from sklearn import svm\n",
    "from sklearn.model_selection import cross_validate\n",
    "from sklearn import datasets, linear_model\n",
    "\n",
    "    "
   ]
  },
  {
   "cell_type": "code",
   "execution_count": 94,
   "metadata": {},
   "outputs": [],
   "source": [
    "def read_file(fn):\n",
    "    with codecs.open(fn,encoding=\"utf-8\") as f:\n",
    "        return f.read()"
   ]
  },
  {
   "cell_type": "markdown",
   "metadata": {},
   "source": [
    "#  Chirac/Mitterrand"
   ]
  },
  {
   "cell_type": "code",
   "execution_count": 95,
   "metadata": {},
   "outputs": [],
   "source": [
    "fname=\"AFDpresidentutf8/corpus.tache1.learn.utf8\"\n",
    "\n",
    "nblignes = 10000\n",
    "#print( \"nblignes = %d\",nblignes)\n",
    "#labs = np.ones(nblignes)\n",
    "\n",
    "def get_text(fname,nblignes):\n",
    "    s=codecs.open(fname, 'r','utf-8') # pour régler le codage\n",
    "    alltxts = []\n",
    "    allabs=[]\n",
    "    cpt = 0\n",
    "    for i in range(nblignes):\n",
    "        txt = s.readline()\n",
    "\n",
    "        lab = re.sub(r\"<[0-9]*:[0-9]*:(.)>.*\",\"\\\\1\",txt)\n",
    "        txt = re.sub(r\"<[0-9]*:[0-9]*:.>(.*)\",\"\\\\1\",txt)\n",
    "\n",
    "        alltxts.append(txt)\n",
    "        if(lab[0]=='C'):\n",
    "            l=1\n",
    "        else:\n",
    "            l=-1\n",
    "        allabs.append(l)\n",
    "        cpt += 1\n",
    "    return alltxts,allabs"
   ]
  },
  {
   "cell_type": "code",
   "execution_count": 91,
   "metadata": {},
   "outputs": [
    {
     "name": "stdout",
     "output_type": "stream",
     "text": [
      "4301 1199\n"
     ]
    }
   ],
   "source": [
    "print(allabs.count(1),allabs.count(-1))"
   ]
  },
  {
   "cell_type": "markdown",
   "metadata": {},
   "source": [
    "## Sans tf-idf"
   ]
  },
  {
   "cell_type": "code",
   "execution_count": 84,
   "metadata": {},
   "outputs": [
    {
     "name": "stderr",
     "output_type": "stream",
     "text": [
      "/usr/local/lib/python3.6/dist-packages/sklearn/svm/_base.py:947: ConvergenceWarning: Liblinear failed to converge, increase the number of iterations.\n",
      "  \"the number of iterations.\", ConvergenceWarning)\n",
      "/usr/local/lib/python3.6/dist-packages/sklearn/svm/_base.py:947: ConvergenceWarning: Liblinear failed to converge, increase the number of iterations.\n",
      "  \"the number of iterations.\", ConvergenceWarning)\n",
      "/usr/local/lib/python3.6/dist-packages/sklearn/svm/_base.py:947: ConvergenceWarning: Liblinear failed to converge, increase the number of iterations.\n",
      "  \"the number of iterations.\", ConvergenceWarning)\n",
      "/usr/local/lib/python3.6/dist-packages/sklearn/svm/_base.py:947: ConvergenceWarning: Liblinear failed to converge, increase the number of iterations.\n",
      "  \"the number of iterations.\", ConvergenceWarning)\n",
      "/usr/local/lib/python3.6/dist-packages/sklearn/svm/_base.py:947: ConvergenceWarning: Liblinear failed to converge, increase the number of iterations.\n",
      "  \"the number of iterations.\", ConvergenceWarning)\n",
      "/usr/local/lib/python3.6/dist-packages/sklearn/svm/_base.py:947: ConvergenceWarning: Liblinear failed to converge, increase the number of iterations.\n",
      "  \"the number of iterations.\", ConvergenceWarning)\n",
      "/usr/local/lib/python3.6/dist-packages/sklearn/svm/_base.py:947: ConvergenceWarning: Liblinear failed to converge, increase the number of iterations.\n",
      "  \"the number of iterations.\", ConvergenceWarning)\n"
     ]
    },
    {
     "name": "stdout",
     "output_type": "stream",
     "text": [
      "{1000: 0.83, 1500: 0.8433333333333334, 2000: 0.7725, 2500: 0.79, 3000: 0.7966666666666666, 3500: 0.7885714285714286, 4000: 0.8, 4500: 0.8155555555555556, 5000: 0.81, 5500: 0.82, 6000: 0.8333333333333334, 6500: 0.8353846153846154, 7000: 0.8307142857142857, 7500: 0.8333333333333334, 8000: 0.836875, 8500: 0.8335294117647059, 9000: 0.8361111111111111, 9500: 0.8326315789473684, 10000: 0.8345, 10500: 0.8247619047619048, 11000: 0.8304545454545454, 11500: 0.8356521739130435, 12000: 0.8345833333333333, 12500: 0.8392, 13000: 0.8384615384615385, 13500: 0.8388888888888889, 14000: 0.8457142857142858, 14500: 0.8479310344827586, 15000: 0.8513333333333334, 15500: 0.8490322580645161, 16000: 0.8440625, 16500: 0.8463636363636363, 17000: 0.8458823529411764, 17500: 0.8434285714285714, 18000: 0.8441666666666666, 18500: 0.8451351351351352, 19000: 0.8463157894736842, 19500: 0.8407692307692308}\n"
     ]
    }
   ],
   "source": [
    "vectorizer = CountVectorizer()\n",
    "classif = svm.LinearSVC()\n",
    "score={}\n",
    "for n in range (1000,20000,500):\n",
    "    alltxts,allabs=get_text(fname,n)\n",
    "    Matrix = vectorizer.fit_transform(alltxts)\n",
    "    cv_results = cross_validate(classif, Matrix, allabs)\n",
    "    score[n]=max(cv_results['test_score'])\n",
    "print(score)"
   ]
  },
  {
   "cell_type": "markdown",
   "metadata": {},
   "source": [
    "## Avec tf-idf"
   ]
  },
  {
   "cell_type": "code",
   "execution_count": 85,
   "metadata": {},
   "outputs": [
    {
     "name": "stdout",
     "output_type": "stream",
     "text": [
      "{1000: 0.845, 1500: 0.82, 2000: 0.795, 2500: 0.802, 3000: 0.8266666666666667, 3500: 0.82, 4000: 0.815, 4500: 0.8177777777777778, 5000: 0.824, 5500: 0.8309090909090909, 6000: 0.84, 6500: 0.84, 7000: 0.8557142857142858, 7500: 0.85, 8000: 0.85625, 8500: 0.8494117647058823, 9000: 0.8566666666666667, 9500: 0.8557894736842105, 10000: 0.857, 10500: 0.8480952380952381, 11000: 0.8527272727272728, 11500: 0.8552173913043478, 12000: 0.8545833333333334, 12500: 0.8592, 13000: 0.8607692307692307, 13500: 0.8618518518518519, 14000: 0.8675, 14500: 0.8693103448275862, 15000: 0.8706666666666667, 15500: 0.8680645161290322, 16000: 0.8690625, 16500: 0.8675757575757576, 17000: 0.866764705882353, 17500: 0.8657142857142858, 18000: 0.8661111111111112, 18500: 0.8656756756756757, 19000: 0.8655263157894737, 19500: 0.8630769230769231}\n"
     ]
    }
   ],
   "source": [
    "score_tfidf={}\n",
    "tfidfvect=TfidfVectorizer()\n",
    "classif = svm.LinearSVC()\n",
    "for n in range (1000,20000,500):\n",
    "    alltxts,allabs=get_text(fname,n)\n",
    "    Matrix_tfidf=tfidfvect.fit_transform(alltxts)\n",
    "    cv_results = cross_validate(classif, Matrix_tfidf, allabs)\n",
    "    score_tfidf[n]=max(cv_results['test_score'])\n",
    "print(score_tfidf)\n"
   ]
  },
  {
   "cell_type": "code",
   "execution_count": 86,
   "metadata": {},
   "outputs": [
    {
     "data": {
      "image/png": "[encoded data removed]",
      "text/plain": [
       "<matplotlib.figure.Figure at 0x7fe58d2021d0>"
      ]
     },
     "metadata": {},
     "output_type": "display_data"
    }
   ],
   "source": [
    "plt.plot(score.keys(),score.values(),label=\"Sans tf-idf\")\n",
    "plt.plot(score_tfidf.keys(),score_tfidf.values(),label=\"Avec tf-idf\")\n",
    "plt.legend()\n",
    "plt.ylabel(\"Score\")\n",
    "plt.xlabel(\"Nombre de Lignes\")\n",
    "plt.show()"
   ]
  },
  {
   "cell_type": "code",
   "execution_count": 87,
   "metadata": {},
   "outputs": [
    {
     "name": "stdout",
     "output_type": "stream",
     "text": [
      "{1000: 0.845, 1500: 0.82, 2000: 0.795, 2500: 0.802, 3000: 0.8266666666666667, 3500: 0.82, 4000: 0.815, 4500: 0.8177777777777778, 5000: 0.824, 5500: 0.8309090909090909, 6000: 0.84, 6500: 0.84, 7000: 0.8557142857142858, 7500: 0.85, 8000: 0.85625, 8500: 0.8494117647058823, 9000: 0.8566666666666667, 9500: 0.8557894736842105, 10000: 0.857, 10500: 0.8480952380952381, 11000: 0.8527272727272728, 11500: 0.8552173913043478, 12000: 0.8545833333333334, 12500: 0.8592, 13000: 0.8607692307692307, 13500: 0.8618518518518519, 14000: 0.8675, 14500: 0.8693103448275862, 15000: 0.8706666666666667, 15500: 0.8680645161290322, 16000: 0.8690625, 16500: 0.8675757575757576, 17000: 0.866764705882353, 17500: 0.8657142857142858, 18000: 0.8661111111111112, 18500: 0.8656756756756757, 19000: 0.8655263157894737, 19500: 0.8630769230769231}\n"
     ]
    }
   ],
   "source": [
    "score_lowercase={}\n",
    "tfidfvectlc=TfidfVectorizer(lowercase=True)\n",
    "classif = svm.LinearSVC()\n",
    "for n in range (1000,20000,500):\n",
    "    alltxts,allabs=get_text(fname,n)\n",
    "    Matrix_tfidf=tfidfvectlc.fit_transform(alltxts)\n",
    "    cv_results = cross_validate(classif, Matrix_tfidf, allabs)\n",
    "    score_lowercase[n]=max(cv_results['test_score'])\n",
    "print(score_lowercase)\n"
   ]
  },
  {
   "cell_type": "code",
   "execution_count": 88,
   "metadata": {},
   "outputs": [
    {
     "ename": "KeyboardInterrupt",
     "evalue": "",
     "output_type": "error",
     "traceback": [
      "\u001b[0;31m---------------------------------------------------------------------------\u001b[0m",
      "\u001b[0;31mKeyboardInterrupt\u001b[0m                         Traceback (most recent call last)",
      "\u001b[0;32m<ipython-input-88-e21537ccb945>\u001b[0m in \u001b[0;36m<module>\u001b[0;34m()\u001b[0m\n\u001b[1;32m      4\u001b[0m \u001b[0;32mfor\u001b[0m \u001b[0mn\u001b[0m \u001b[0;32min\u001b[0m \u001b[0mrange\u001b[0m \u001b[0;34m(\u001b[0m\u001b[0;36m1000\u001b[0m\u001b[0;34m,\u001b[0m\u001b[0;36m20000\u001b[0m\u001b[0;34m,\u001b[0m\u001b[0;36m500\u001b[0m\u001b[0;34m)\u001b[0m\u001b[0;34m:\u001b[0m\u001b[0;34m\u001b[0m\u001b[0;34m\u001b[0m\u001b[0m\n\u001b[1;32m      5\u001b[0m     \u001b[0malltxts\u001b[0m\u001b[0;34m,\u001b[0m\u001b[0mallabs\u001b[0m\u001b[0;34m=\u001b[0m\u001b[0mget_text\u001b[0m\u001b[0;34m(\u001b[0m\u001b[0mfname\u001b[0m\u001b[0;34m,\u001b[0m\u001b[0mn\u001b[0m\u001b[0;34m)\u001b[0m\u001b[0;34m\u001b[0m\u001b[0;34m\u001b[0m\u001b[0m\n\u001b[0;32m----> 6\u001b[0;31m     \u001b[0mMatrix_tfidf\u001b[0m\u001b[0;34m=\u001b[0m\u001b[0mtfidfvectuc\u001b[0m\u001b[0;34m.\u001b[0m\u001b[0mfit_transform\u001b[0m\u001b[0;34m(\u001b[0m\u001b[0malltxts\u001b[0m\u001b[0;34m)\u001b[0m\u001b[0;34m\u001b[0m\u001b[0;34m\u001b[0m\u001b[0m\n\u001b[0m\u001b[1;32m      7\u001b[0m     \u001b[0mcv_results\u001b[0m \u001b[0;34m=\u001b[0m \u001b[0mcross_validate\u001b[0m\u001b[0;34m(\u001b[0m\u001b[0mclassif\u001b[0m\u001b[0;34m,\u001b[0m \u001b[0mMatrix_tfidf\u001b[0m\u001b[0;34m,\u001b[0m \u001b[0mallabs\u001b[0m\u001b[0;34m)\u001b[0m\u001b[0;34m\u001b[0m\u001b[0;34m\u001b[0m\u001b[0m\n\u001b[1;32m      8\u001b[0m     \u001b[0mscore_uppercase\u001b[0m\u001b[0;34m[\u001b[0m\u001b[0mn\u001b[0m\u001b[0;34m]\u001b[0m\u001b[0;34m=\u001b[0m\u001b[0mmax\u001b[0m\u001b[0;34m(\u001b[0m\u001b[0mcv_results\u001b[0m\u001b[0;34m[\u001b[0m\u001b[0;34m'test_score'\u001b[0m\u001b[0;34m]\u001b[0m\u001b[0;34m)\u001b[0m\u001b[0;34m\u001b[0m\u001b[0;34m\u001b[0m\u001b[0m\n",
      "\u001b[0;32m/usr/local/lib/python3.6/dist-packages/sklearn/feature_extraction/text.py\u001b[0m in \u001b[0;36mfit_transform\u001b[0;34m(self, raw_documents, y)\u001b[0m\n\u001b[1;32m   1858\u001b[0m         \u001b[0mself\u001b[0m\u001b[0;34m.\u001b[0m\u001b[0m_check_params\u001b[0m\u001b[0;34m(\u001b[0m\u001b[0;34m)\u001b[0m\u001b[0;34m\u001b[0m\u001b[0;34m\u001b[0m\u001b[0m\n\u001b[1;32m   1859\u001b[0m         \u001b[0mX\u001b[0m \u001b[0;34m=\u001b[0m \u001b[0msuper\u001b[0m\u001b[0;34m(\u001b[0m\u001b[0;34m)\u001b[0m\u001b[0;34m.\u001b[0m\u001b[0mfit_transform\u001b[0m\u001b[0;34m(\u001b[0m\u001b[0mraw_documents\u001b[0m\u001b[0;34m)\u001b[0m\u001b[0;34m\u001b[0m\u001b[0;34m\u001b[0m\u001b[0m\n\u001b[0;32m-> 1860\u001b[0;31m         \u001b[0mself\u001b[0m\u001b[0;34m.\u001b[0m\u001b[0m_tfidf\u001b[0m\u001b[0;34m.\u001b[0m\u001b[0mfit\u001b[0m\u001b[0;34m(\u001b[0m\u001b[0mX\u001b[0m\u001b[0;34m)\u001b[0m\u001b[0;34m\u001b[0m\u001b[0;34m\u001b[0m\u001b[0m\n\u001b[0m\u001b[1;32m   1861\u001b[0m         \u001b[0;31m# X is already a transformed view of raw_documents so\u001b[0m\u001b[0;34m\u001b[0m\u001b[0;34m\u001b[0m\u001b[0;34m\u001b[0m\u001b[0m\n\u001b[1;32m   1862\u001b[0m         \u001b[0;31m# we set copy to False\u001b[0m\u001b[0;34m\u001b[0m\u001b[0;34m\u001b[0m\u001b[0;34m\u001b[0m\u001b[0m\n",
      "\u001b[0;32m/usr/local/lib/python3.6/dist-packages/sklearn/feature_extraction/text.py\u001b[0m in \u001b[0;36mfit\u001b[0;34m(self, X, y)\u001b[0m\n\u001b[1;32m   1468\u001b[0m                                       \u001b[0mshape\u001b[0m\u001b[0;34m=\u001b[0m\u001b[0;34m(\u001b[0m\u001b[0mn_features\u001b[0m\u001b[0;34m,\u001b[0m \u001b[0mn_features\u001b[0m\u001b[0;34m)\u001b[0m\u001b[0;34m,\u001b[0m\u001b[0;34m\u001b[0m\u001b[0;34m\u001b[0m\u001b[0m\n\u001b[1;32m   1469\u001b[0m                                       \u001b[0mformat\u001b[0m\u001b[0;34m=\u001b[0m\u001b[0;34m'csr'\u001b[0m\u001b[0;34m,\u001b[0m\u001b[0;34m\u001b[0m\u001b[0;34m\u001b[0m\u001b[0m\n\u001b[0;32m-> 1470\u001b[0;31m                                       dtype=dtype)\n\u001b[0m\u001b[1;32m   1471\u001b[0m \u001b[0;34m\u001b[0m\u001b[0m\n\u001b[1;32m   1472\u001b[0m         \u001b[0;32mreturn\u001b[0m \u001b[0mself\u001b[0m\u001b[0;34m\u001b[0m\u001b[0;34m\u001b[0m\u001b[0m\n",
      "\u001b[0;32m/usr/local/lib/python3.6/dist-packages/scipy/sparse/construct.py\u001b[0m in \u001b[0;36mdiags\u001b[0;34m(diagonals, offsets, shape, format, dtype)\u001b[0m\n\u001b[1;32m    186\u001b[0m             \u001b[0;32mraise\u001b[0m\u001b[0;34m\u001b[0m\u001b[0;34m\u001b[0m\u001b[0m\n\u001b[1;32m    187\u001b[0m \u001b[0;34m\u001b[0m\u001b[0m\n\u001b[0;32m--> 188\u001b[0;31m     \u001b[0;32mreturn\u001b[0m \u001b[0mdia_matrix\u001b[0m\u001b[0;34m(\u001b[0m\u001b[0;34m(\u001b[0m\u001b[0mdata_arr\u001b[0m\u001b[0;34m,\u001b[0m \u001b[0moffsets\u001b[0m\u001b[0;34m)\u001b[0m\u001b[0;34m,\u001b[0m \u001b[0mshape\u001b[0m\u001b[0;34m=\u001b[0m\u001b[0;34m(\u001b[0m\u001b[0mm\u001b[0m\u001b[0;34m,\u001b[0m \u001b[0mn\u001b[0m\u001b[0;34m)\u001b[0m\u001b[0;34m)\u001b[0m\u001b[0;34m.\u001b[0m\u001b[0masformat\u001b[0m\u001b[0;34m(\u001b[0m\u001b[0mformat\u001b[0m\u001b[0;34m)\u001b[0m\u001b[0;34m\u001b[0m\u001b[0;34m\u001b[0m\u001b[0m\n\u001b[0m\u001b[1;32m    189\u001b[0m \u001b[0;34m\u001b[0m\u001b[0m\n\u001b[1;32m    190\u001b[0m \u001b[0;34m\u001b[0m\u001b[0m\n",
      "\u001b[0;32m/usr/local/lib/python3.6/dist-packages/scipy/sparse/base.py\u001b[0m in \u001b[0;36masformat\u001b[0;34m(self, format, copy)\u001b[0m\n\u001b[1;32m    324\u001b[0m             \u001b[0;31m# Forward the copy kwarg, if it's accepted.\u001b[0m\u001b[0;34m\u001b[0m\u001b[0;34m\u001b[0m\u001b[0;34m\u001b[0m\u001b[0m\n\u001b[1;32m    325\u001b[0m             \u001b[0;32mtry\u001b[0m\u001b[0;34m:\u001b[0m\u001b[0;34m\u001b[0m\u001b[0;34m\u001b[0m\u001b[0m\n\u001b[0;32m--> 326\u001b[0;31m                 \u001b[0;32mreturn\u001b[0m \u001b[0mconvert_method\u001b[0m\u001b[0;34m(\u001b[0m\u001b[0mcopy\u001b[0m\u001b[0;34m=\u001b[0m\u001b[0mcopy\u001b[0m\u001b[0;34m)\u001b[0m\u001b[0;34m\u001b[0m\u001b[0;34m\u001b[0m\u001b[0m\n\u001b[0m\u001b[1;32m    327\u001b[0m             \u001b[0;32mexcept\u001b[0m \u001b[0mTypeError\u001b[0m\u001b[0;34m:\u001b[0m\u001b[0;34m\u001b[0m\u001b[0;34m\u001b[0m\u001b[0m\n\u001b[1;32m    328\u001b[0m                 \u001b[0;32mreturn\u001b[0m \u001b[0mconvert_method\u001b[0m\u001b[0;34m(\u001b[0m\u001b[0;34m)\u001b[0m\u001b[0;34m\u001b[0m\u001b[0;34m\u001b[0m\u001b[0m\n",
      "\u001b[0;32m/usr/local/lib/python3.6/dist-packages/scipy/sparse/base.py\u001b[0m in \u001b[0;36mtocsr\u001b[0;34m(self, copy)\u001b[0m\n\u001b[1;32m    892\u001b[0m         \u001b[0mthe\u001b[0m \u001b[0mresultant\u001b[0m \u001b[0mcsr_matrix\u001b[0m\u001b[0;34m.\u001b[0m\u001b[0;34m\u001b[0m\u001b[0;34m\u001b[0m\u001b[0m\n\u001b[1;32m    893\u001b[0m         \"\"\"\n\u001b[0;32m--> 894\u001b[0;31m         \u001b[0;32mreturn\u001b[0m \u001b[0mself\u001b[0m\u001b[0;34m.\u001b[0m\u001b[0mtocoo\u001b[0m\u001b[0;34m(\u001b[0m\u001b[0mcopy\u001b[0m\u001b[0;34m=\u001b[0m\u001b[0mcopy\u001b[0m\u001b[0;34m)\u001b[0m\u001b[0;34m.\u001b[0m\u001b[0mtocsr\u001b[0m\u001b[0;34m(\u001b[0m\u001b[0mcopy\u001b[0m\u001b[0;34m=\u001b[0m\u001b[0;32mFalse\u001b[0m\u001b[0;34m)\u001b[0m\u001b[0;34m\u001b[0m\u001b[0;34m\u001b[0m\u001b[0m\n\u001b[0m\u001b[1;32m    895\u001b[0m \u001b[0;34m\u001b[0m\u001b[0m\n\u001b[1;32m    896\u001b[0m     \u001b[0;32mdef\u001b[0m \u001b[0mtodok\u001b[0m\u001b[0;34m(\u001b[0m\u001b[0mself\u001b[0m\u001b[0;34m,\u001b[0m \u001b[0mcopy\u001b[0m\u001b[0;34m=\u001b[0m\u001b[0;32mFalse\u001b[0m\u001b[0;34m)\u001b[0m\u001b[0;34m:\u001b[0m\u001b[0;34m\u001b[0m\u001b[0;34m\u001b[0m\u001b[0m\n",
      "\u001b[0;32m/usr/local/lib/python3.6/dist-packages/scipy/sparse/dia.py\u001b[0m in \u001b[0;36mtocoo\u001b[0;34m(self, copy)\u001b[0m\n\u001b[1;32m    361\u001b[0m \u001b[0;34m\u001b[0m\u001b[0m\n\u001b[1;32m    362\u001b[0m         \u001b[0;32mfrom\u001b[0m \u001b[0;34m.\u001b[0m\u001b[0mcoo\u001b[0m \u001b[0;32mimport\u001b[0m \u001b[0mcoo_matrix\u001b[0m\u001b[0;34m\u001b[0m\u001b[0;34m\u001b[0m\u001b[0m\n\u001b[0;32m--> 363\u001b[0;31m         \u001b[0mA\u001b[0m \u001b[0;34m=\u001b[0m \u001b[0mcoo_matrix\u001b[0m\u001b[0;34m(\u001b[0m\u001b[0;34m(\u001b[0m\u001b[0mdata\u001b[0m\u001b[0;34m,\u001b[0m\u001b[0;34m(\u001b[0m\u001b[0mrow\u001b[0m\u001b[0;34m,\u001b[0m\u001b[0mcol\u001b[0m\u001b[0;34m)\u001b[0m\u001b[0;34m)\u001b[0m\u001b[0;34m,\u001b[0m \u001b[0mshape\u001b[0m\u001b[0;34m=\u001b[0m\u001b[0mself\u001b[0m\u001b[0;34m.\u001b[0m\u001b[0mshape\u001b[0m\u001b[0;34m,\u001b[0m \u001b[0mdtype\u001b[0m\u001b[0;34m=\u001b[0m\u001b[0mself\u001b[0m\u001b[0;34m.\u001b[0m\u001b[0mdtype\u001b[0m\u001b[0;34m)\u001b[0m\u001b[0;34m\u001b[0m\u001b[0;34m\u001b[0m\u001b[0m\n\u001b[0m\u001b[1;32m    364\u001b[0m         \u001b[0mA\u001b[0m\u001b[0;34m.\u001b[0m\u001b[0mhas_canonical_format\u001b[0m \u001b[0;34m=\u001b[0m \u001b[0;32mTrue\u001b[0m\u001b[0;34m\u001b[0m\u001b[0;34m\u001b[0m\u001b[0m\n\u001b[1;32m    365\u001b[0m         \u001b[0;32mreturn\u001b[0m \u001b[0mA\u001b[0m\u001b[0;34m\u001b[0m\u001b[0;34m\u001b[0m\u001b[0m\n",
      "\u001b[0;32m/usr/local/lib/python3.6/dist-packages/scipy/sparse/coo.py\u001b[0m in \u001b[0;36m__init__\u001b[0;34m(self, arg1, shape, dtype, copy)\u001b[0m\n\u001b[1;32m    196\u001b[0m             \u001b[0mself\u001b[0m\u001b[0;34m.\u001b[0m\u001b[0mdata\u001b[0m \u001b[0;34m=\u001b[0m \u001b[0mself\u001b[0m\u001b[0;34m.\u001b[0m\u001b[0mdata\u001b[0m\u001b[0;34m.\u001b[0m\u001b[0mastype\u001b[0m\u001b[0;34m(\u001b[0m\u001b[0mdtype\u001b[0m\u001b[0;34m,\u001b[0m \u001b[0mcopy\u001b[0m\u001b[0;34m=\u001b[0m\u001b[0;32mFalse\u001b[0m\u001b[0;34m)\u001b[0m\u001b[0;34m\u001b[0m\u001b[0;34m\u001b[0m\u001b[0m\n\u001b[1;32m    197\u001b[0m \u001b[0;34m\u001b[0m\u001b[0m\n\u001b[0;32m--> 198\u001b[0;31m         \u001b[0mself\u001b[0m\u001b[0;34m.\u001b[0m\u001b[0m_check\u001b[0m\u001b[0;34m(\u001b[0m\u001b[0;34m)\u001b[0m\u001b[0;34m\u001b[0m\u001b[0;34m\u001b[0m\u001b[0m\n\u001b[0m\u001b[1;32m    199\u001b[0m \u001b[0;34m\u001b[0m\u001b[0m\n\u001b[1;32m    200\u001b[0m     \u001b[0;32mdef\u001b[0m \u001b[0mreshape\u001b[0m\u001b[0;34m(\u001b[0m\u001b[0mself\u001b[0m\u001b[0;34m,\u001b[0m \u001b[0;34m*\u001b[0m\u001b[0margs\u001b[0m\u001b[0;34m,\u001b[0m \u001b[0;34m**\u001b[0m\u001b[0mkwargs\u001b[0m\u001b[0;34m)\u001b[0m\u001b[0;34m:\u001b[0m\u001b[0;34m\u001b[0m\u001b[0;34m\u001b[0m\u001b[0m\n",
      "\u001b[0;32m/usr/local/lib/python3.6/dist-packages/scipy/sparse/coo.py\u001b[0m in \u001b[0;36m_check\u001b[0;34m(self)\u001b[0m\n\u001b[1;32m    284\u001b[0m             \u001b[0;32mif\u001b[0m \u001b[0mself\u001b[0m\u001b[0;34m.\u001b[0m\u001b[0mrow\u001b[0m\u001b[0;34m.\u001b[0m\u001b[0mmax\u001b[0m\u001b[0;34m(\u001b[0m\u001b[0;34m)\u001b[0m \u001b[0;34m>=\u001b[0m \u001b[0mself\u001b[0m\u001b[0;34m.\u001b[0m\u001b[0mshape\u001b[0m\u001b[0;34m[\u001b[0m\u001b[0;36m0\u001b[0m\u001b[0;34m]\u001b[0m\u001b[0;34m:\u001b[0m\u001b[0;34m\u001b[0m\u001b[0;34m\u001b[0m\u001b[0m\n\u001b[1;32m    285\u001b[0m                 \u001b[0;32mraise\u001b[0m \u001b[0mValueError\u001b[0m\u001b[0;34m(\u001b[0m\u001b[0;34m'row index exceeds matrix dimensions'\u001b[0m\u001b[0;34m)\u001b[0m\u001b[0;34m\u001b[0m\u001b[0;34m\u001b[0m\u001b[0m\n\u001b[0;32m--> 286\u001b[0;31m             \u001b[0;32mif\u001b[0m \u001b[0mself\u001b[0m\u001b[0;34m.\u001b[0m\u001b[0mcol\u001b[0m\u001b[0;34m.\u001b[0m\u001b[0mmax\u001b[0m\u001b[0;34m(\u001b[0m\u001b[0;34m)\u001b[0m \u001b[0;34m>=\u001b[0m \u001b[0mself\u001b[0m\u001b[0;34m.\u001b[0m\u001b[0mshape\u001b[0m\u001b[0;34m[\u001b[0m\u001b[0;36m1\u001b[0m\u001b[0;34m]\u001b[0m\u001b[0;34m:\u001b[0m\u001b[0;34m\u001b[0m\u001b[0;34m\u001b[0m\u001b[0m\n\u001b[0m\u001b[1;32m    287\u001b[0m                 \u001b[0;32mraise\u001b[0m \u001b[0mValueError\u001b[0m\u001b[0;34m(\u001b[0m\u001b[0;34m'column index exceeds matrix dimensions'\u001b[0m\u001b[0;34m)\u001b[0m\u001b[0;34m\u001b[0m\u001b[0;34m\u001b[0m\u001b[0m\n\u001b[1;32m    288\u001b[0m             \u001b[0;32mif\u001b[0m \u001b[0mself\u001b[0m\u001b[0;34m.\u001b[0m\u001b[0mrow\u001b[0m\u001b[0;34m.\u001b[0m\u001b[0mmin\u001b[0m\u001b[0;34m(\u001b[0m\u001b[0;34m)\u001b[0m \u001b[0;34m<\u001b[0m \u001b[0;36m0\u001b[0m\u001b[0;34m:\u001b[0m\u001b[0;34m\u001b[0m\u001b[0;34m\u001b[0m\u001b[0m\n",
      "\u001b[0;32m/usr/local/lib/python3.6/dist-packages/numpy/core/_methods.py\u001b[0m in \u001b[0;36m_amax\u001b[0;34m(a, axis, out, keepdims, initial, where)\u001b[0m\n\u001b[1;32m     28\u001b[0m def _amax(a, axis=None, out=None, keepdims=False,\n\u001b[1;32m     29\u001b[0m           initial=_NoValue, where=True):\n\u001b[0;32m---> 30\u001b[0;31m     \u001b[0;32mreturn\u001b[0m \u001b[0mumr_maximum\u001b[0m\u001b[0;34m(\u001b[0m\u001b[0ma\u001b[0m\u001b[0;34m,\u001b[0m \u001b[0maxis\u001b[0m\u001b[0;34m,\u001b[0m \u001b[0;32mNone\u001b[0m\u001b[0;34m,\u001b[0m \u001b[0mout\u001b[0m\u001b[0;34m,\u001b[0m \u001b[0mkeepdims\u001b[0m\u001b[0;34m,\u001b[0m \u001b[0minitial\u001b[0m\u001b[0;34m,\u001b[0m \u001b[0mwhere\u001b[0m\u001b[0;34m)\u001b[0m\u001b[0;34m\u001b[0m\u001b[0;34m\u001b[0m\u001b[0m\n\u001b[0m\u001b[1;32m     31\u001b[0m \u001b[0;34m\u001b[0m\u001b[0m\n\u001b[1;32m     32\u001b[0m def _amin(a, axis=None, out=None, keepdims=False,\n",
      "\u001b[0;31mKeyboardInterrupt\u001b[0m: "
     ]
    }
   ],
   "source": [
    "score_uppercase={}\n",
    "tfidfvectuc=TfidfVectorizer(lowercase=False)\n",
    "classif = svm.LinearSVC()\n",
    "for n in range (1000,20000,500):\n",
    "    alltxts,allabs=get_text(fname,n)\n",
    "    Matrix_tfidf=tfidfvectuc.fit_transform(alltxts)\n",
    "    cv_results = cross_validate(classif, Matrix_tfidf, allabs)\n",
    "    score_uppercase[n]=max(cv_results['test_score'])\n",
    "print(score_uppercase)"
   ]
  },
  {
   "cell_type": "code",
   "execution_count": null,
   "metadata": {},
   "outputs": [],
   "source": [
    "plt.plot(score.keys(),score.values(),label=\"Sans tf-idf\")\n",
    "plt.plot(score_tfidf.keys(),score_tfidf.values(),label=\"Avec tf-idf\")\n",
    "#plt.plot(score_lowercase.keys(),score_lowercase.values(),label=\"Avec tf-idf minuscule\")\n",
    "plt.plot(score_uppercase.keys(),score_uppercase.values(),label=\"Avec tf-idf et majuscule\")\n",
    "plt.legend()\n",
    "plt.ylabel(\"Score\")\n",
    "plt.xlabel(\"Nombre de Lignes\")\n",
    "plt.title(\"Score avec tf-idf\")\n",
    "plt.show()"
   ]
  },
  {
   "cell_type": "markdown",
   "metadata": {},
   "source": [
    "## Prédiction"
   ]
  },
  {
   "cell_type": "code",
   "execution_count": null,
   "metadata": {},
   "outputs": [],
   "source": [
    "#### Learning \n",
    "tfidfvectuc=TfidfVectorizer(lowercase=False)\n",
    "classif = svm.LinearSVC()\n",
    "alltxts,allabs=get_text(fname,15000)\n",
    "Matrix_tfidf=tfidfvectuc.fit_transform(alltxts)\n",
    "classif.fit(Matrix_tfidf, allabs)\n",
    "\n",
    "#### Testing\n",
    "\n",
    "fname_test=\"AFDpresidentutf8/corpus.tache1.test.utf8\"\n",
    "alltxts_test = []\n",
    "s=codecs.open(fname_test, 'r','utf-8') # pour régler le codage\n",
    "#generation du bow du fichier test\n",
    "cpt = 0\n",
    "for i in range(nblignes):\n",
    "    txt = s.readline()\n",
    "    txt = re.sub(r\"<[0-9]*:[0-9]*>(.*)\",\"\\\\1\",txt)\n",
    "\n",
    "    alltxts_test.append(txt)\n",
    "\n",
    "vect_test=TfidfVectorizer(lowercase=False,vocabulary=tfidfvectuc.get_feature_names())\n",
    "Matrix_test=vect_test.fit_transform(alltxts_test)\n",
    "prediction=classif.predict(Matrix_test)\n",
    "fichier = open(\"prediction.txt\", \"a\")\n",
    "for res in prediction:\n",
    "    if (res ==1):\n",
    "        fichier.write(\"C\\n\")\n",
    "    else:\n",
    "        fichier.write(\"M\\n\")\n",
    "fichier.close()"
   ]
  },
  {
   "cell_type": "markdown",
   "metadata": {},
   "source": [
    "# Films"
   ]
  },
  {
   "cell_type": "code",
   "execution_count": 107,
   "metadata": {},
   "outputs": [
    {
     "name": "stdout",
     "output_type": "stream",
     "text": [
      "pos\n",
      "neg\n"
     ]
    }
   ],
   "source": [
    "#from tools import *\n",
    "import os.path\n",
    "\n",
    "path = \"/home/h_djeddal/DAC/RITAL/TAL/Classification/AFDmovies/movies1000/\"\n",
    "\n",
    "alltxts = [] # init vide\n",
    "labs = []\n",
    "cpt = 0\n",
    "for cl in os.listdir(path): # parcours des fichiers d'un répertoire\n",
    "    print (cl)\n",
    "    for f in os.listdir(path+cl):\n",
    "        txt = read_file(path+cl+'/'+f)\n",
    "        alltxts.append(txt)\n",
    "        labs.append(cpt)\n",
    "    cpt += 1"
   ]
  },
  {
   "cell_type": "markdown",
   "metadata": {},
   "source": [
    "## Sans tf-idf\n"
   ]
  },
  {
   "cell_type": "code",
   "execution_count": 97,
   "metadata": {},
   "outputs": [
    {
     "name": "stderr",
     "output_type": "stream",
     "text": [
      "/usr/local/lib/python3.6/dist-packages/sklearn/svm/_base.py:947: ConvergenceWarning: Liblinear failed to converge, increase the number of iterations.\n",
      "  \"the number of iterations.\", ConvergenceWarning)\n"
     ]
    },
    {
     "name": "stdout",
     "output_type": "stream",
     "text": [
      "{'sans tf-idf': 0.845, 'avec tf-idf': 0.8725, 'avec tf-idf en minuscule': 0.8725, 'avec tf-idf et majuscule': 0.8725}\n"
     ]
    }
   ],
   "source": [
    "vectorizer = CountVectorizer()\n",
    "classif = svm.LinearSVC()\n",
    "results={}\n",
    "Matrix = vectorizer.fit_transform(alltxts)\n",
    "cv_results = cross_validate(classif, Matrix, labs)\n",
    "results[\"sans tf-idf\"]= max(cv_results['test_score'])\n",
    "\n",
    "tfidfvect=TfidfVectorizer()\n",
    "Matrix_tfidf=tfidfvect.fit_transform(alltxts)\n",
    "cv_results = cross_validate(classif, Matrix_tfidf, labs)\n",
    "results[\"avec tf-idf\"]= max(cv_results['test_score'])\n",
    "\n",
    "tfidfvectlc=TfidfVectorizer(lowercase=True)\n",
    "Matrix_tfidflc=tfidfvectlc.fit_transform(alltxts)\n",
    "cv_results = cross_validate(classif, Matrix_tfidflc, labs)\n",
    "results[\"avec tf-idf en minuscule\"]= max(cv_results['test_score'])\n",
    "\n",
    "tfidfvectup=TfidfVectorizer(lowercase=False)\n",
    "Matrix_tfidfup=tfidfvectup.fit_transform(alltxts)\n",
    "cv_results = cross_validate(classif, Matrix_tfidfup, labs)\n",
    "results[\"avec tf-idf et majuscule\"]= max(cv_results['test_score'])\n",
    "\n",
    "print(results)"
   ]
  },
  {
   "cell_type": "markdown",
   "metadata": {},
   "source": [
    "## Prediction "
   ]
  },
  {
   "cell_type": "code",
   "execution_count": 116,
   "metadata": {},
   "outputs": [
    {
     "name": "stdout",
     "output_type": "stream",
     "text": [
      "[1 1 1 ... 1 1 1]\n"
     ]
    }
   ],
   "source": [
    "#### Learning\n",
    "tfidfvectuc=TfidfVectorizer(lowercase=True)\n",
    "classif = svm.LinearSVC()\n",
    "Matrix_tfidf=tfidfvectuc.fit_transform(alltxts)\n",
    "classif.fit(Matrix_tfidf, labs)\n",
    "\n",
    "#### Testing\n",
    "\n",
    "fname_test=\"moviesTest/testSentiment.txt\"\n",
    "alltxts_test = []\n",
    "s=codecs.open(fname_test, 'r','utf-8') # pour régler le codage\n",
    "#generation du bow du fichier test\n",
    "file =read_file(fname_test)\n",
    "txt_test=file.split(\"\\n\")\n",
    "\n",
    "\n",
    "\n",
    "vect_test=TfidfVectorizer(lowercase=True,vocabulary=tfidfvectuc.get_feature_names())\n",
    "Matrix_test=vect_test.fit_transform(txt_test)\n",
    "prediction=classif.predict(Matrix_test)\n",
    "print(prediction)\n",
    "fichier = open(\"prediction_movies.txt\", \"a\")\n",
    "for res in prediction:\n",
    "    if (res ==1):\n",
    "        fichier.write(\"neg\\n\")\n",
    "    else:\n",
    "        fichier.write(\"pos\\n\")\n",
    "fichier.close()\n"
   ]
  },
  {
   "cell_type": "code",
   "execution_count": null,
   "metadata": {},
   "outputs": [],
   "source": []
  }
 ],
 "metadata": {
  "kernelspec": {
   "display_name": "Python 3",
   "language": "python",
   "name": "python3"
  },
  "language_info": {
   "codemirror_mode": {
    "name": "ipython",
    "version": 3
   },
   "file_extension": ".py",
   "mimetype": "text/x-python",
   "name": "python",
   "nbconvert_exporter": "python",
   "pygments_lexer": "ipython3",
   "version": "3.6.9"
  }
 },
 "nbformat": 4,
 "nbformat_minor": 2
}
